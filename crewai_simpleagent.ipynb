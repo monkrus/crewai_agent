{
  "nbformat": 4,
  "nbformat_minor": 0,
  "metadata": {
    "colab": {
      "provenance": [],
      "authorship_tag": "ABX9TyMGh1LI2i0IhrZOL0g10goF",
      "include_colab_link": true
    },
    "kernelspec": {
      "name": "python3",
      "display_name": "Python 3"
    },
    "language_info": {
      "name": "python"
    }
  },
  "cells": [
    {
      "cell_type": "markdown",
      "metadata": {
        "id": "view-in-github",
        "colab_type": "text"
      },
      "source": [
        "<a href=\"https://colab.research.google.com/github/monkrus/crewai_agent/blob/main/crewai_simpleagent.ipynb\" target=\"_parent\"><img src=\"https://colab.research.google.com/assets/colab-badge.svg\" alt=\"Open In Colab\"/></a>"
      ]
    },
    {
      "cell_type": "code",
      "execution_count": null,
      "metadata": {
        "id": "6E-FOyi46alI"
      },
      "outputs": [],
      "source": [
        "!pip install -q crewai"
      ]
    },
    {
      "cell_type": "code",
      "source": [
        "!pip install -q 'crewai[tools]'"
      ],
      "metadata": {
        "id": "FLI--Swq7ni4"
      },
      "execution_count": null,
      "outputs": []
    },
    {
      "cell_type": "code",
      "source": [
        "!pip install python-dotenv"
      ],
      "metadata": {
        "id": "0shdxhfG8IbO",
        "colab": {
          "base_uri": "https://localhost:8080/"
        },
        "outputId": "c3ec434b-066c-4646-d942-9dd7b9fd6506"
      },
      "execution_count": null,
      "outputs": [
        {
          "output_type": "stream",
          "name": "stdout",
          "text": [
            "Requirement already satisfied: python-dotenv in /usr/local/lib/python3.10/dist-packages (1.0.0)\n"
          ]
        }
      ]
    },
    {
      "cell_type": "code",
      "source": [
        "# https://platform.openai.com/api-keys"
      ],
      "metadata": {
        "id": "bI1s-PpJsIUX"
      },
      "execution_count": null,
      "outputs": []
    },
    {
      "cell_type": "code",
      "source": [
        "# https://serper.dev/api-key"
      ],
      "metadata": {
        "id": "Pgizd_G9wJT-"
      },
      "execution_count": null,
      "outputs": []
    },
    {
      "cell_type": "code",
      "source": [
        "%load_ext dotenv"
      ],
      "metadata": {
        "id": "M1X_xRdjxP3r",
        "colab": {
          "base_uri": "https://localhost:8080/"
        },
        "outputId": "f04dd532-2dcb-449c-99e3-198ea91cb37e"
      },
      "execution_count": null,
      "outputs": [
        {
          "output_type": "stream",
          "name": "stdout",
          "text": [
            "The dotenv extension is already loaded. To reload it, use:\n",
            "  %reload_ext dotenv\n"
          ]
        }
      ]
    },
    {
      "cell_type": "code",
      "source": [
        "import os\n",
        "from crewai import Agent, Task, Crew, Process\n",
        "from crewai_tools import SerperDevTool\n",
        "\n",
        "# Import Colab Secrets userdata module\n",
        "from google.colab import userdata\n",
        "\n",
        "# Set OpenAI API key\n",
        "import os\n",
        "os.environ[\"OPENAI_API_KEY\"] = userdata.get('OPENAI_API_KEY')\n",
        "\n",
        "# Set SERPER API keys similarly\n",
        "os.environ[\"SERPER_API_KEY\"] = userdata.get('SERPER_API_KEY')\n"
      ],
      "metadata": {
        "id": "3mgWY8kinTgS"
      },
      "execution_count": null,
      "outputs": []
    },
    {
      "cell_type": "code",
      "source": [
        "search_tool = SerperDevTool()"
      ],
      "metadata": {
        "id": "tBA__fhb3nfy"
      },
      "execution_count": null,
      "outputs": []
    },
    {
      "cell_type": "code",
      "source": [
        "from langchain_openai import ChatOpenAI\n",
        "researcher = Agent(\n",
        "  role='Senior Research Analyst',\n",
        "  goal='Uncover cutting-edge developments in AI and data science',\n",
        "  backstory=\"\"\"You work at a leading tech think tank.\n",
        "  Your expertise lies in identifying emerging trends.\n",
        "  You have a knack for dissecting complex data and presenting actionable insights.\"\"\",\n",
        "  verbose=True,\n",
        "  allow_delegation=False,\n",
        "  tools=[search_tool],\n",
        "  llm=ChatOpenAI(model_name='gpt-3.5-turbo', temperature=0.7),\n",
        "  )"
      ],
      "metadata": {
        "id": "6lCrPNv94nuW"
      },
      "execution_count": null,
      "outputs": []
    },
    {
      "cell_type": "code",
      "source": [
        "writer = Agent(\n",
        "  role='Tech Content Strategist',\n",
        "  goal='Craft compelling content on tech advancements',\n",
        "  backstory=\"\"\"You are a renowned Content Strategist, known for your insightful and engaging articles.\n",
        "  You transform complex concepts into compelling narratives.\"\"\",\n",
        "  verbose=True,\n",
        "  allow_delegation=True,\n",
        "  tools= [search_tool],\n",
        "  llm=ChatOpenAI(model_name='gpt-3.5-turbo', temperature=0.7)\n",
        ")"
      ],
      "metadata": {
        "id": "piLXOekadkBR"
      },
      "execution_count": null,
      "outputs": []
    },
    {
      "cell_type": "code",
      "source": [
        "# Create tasks for your agents\n",
        "task1 = Task(\n",
        "  description=\"\"\"Conduct a comprehensive analysis of the latest advancements in AI in 2024.\n",
        "  Identify key trends, breakthrough technologies, and potential industry impacts.\"\"\",\n",
        "  expected_output=\"Full analysis report in bullet points\",\n",
        "  agent=researcher\n",
        ")"
      ],
      "metadata": {
        "id": "4Wof_XbVeXD9"
      },
      "execution_count": null,
      "outputs": []
    },
    {
      "cell_type": "code",
      "source": [
        "task2 = Task(\n",
        "  description=\"\"\"Using the insights provided, develop an engaging blog\n",
        "  post that highlights the most significant AI advancements.\n",
        "  Your post should be informative yet accessible, catering to a tech-savvy audience.\n",
        "  Make it sound cool, avoid complex words so it doesn't sound like AI.\"\"\",\n",
        "  expected_output=\"Full blog post of at least 4 paragraphs\",\n",
        "  agent=writer\n",
        ")"
      ],
      "metadata": {
        "id": "xmDZyu6BeY3q"
      },
      "execution_count": null,
      "outputs": []
    },
    {
      "cell_type": "code",
      "source": [
        "# Instantiate your crew with a sequential process\n",
        "crew = Crew(\n",
        "  agents=[researcher, writer],\n",
        "  tasks=[task1, task2],\n",
        "  verbose=2, # You can set it to 1 or 2 to different logging levels\n",
        ")\n"
      ],
      "metadata": {
        "id": "XQ4OcpBykBgP",
        "colab": {
          "base_uri": "https://localhost:8080/"
        },
        "outputId": "d494ceb0-0318-4590-f33d-63fd03901c44"
      },
      "execution_count": null,
      "outputs": [
        {
          "output_type": "stream",
          "name": "stderr",
          "text": [
            "WARNING:opentelemetry.trace:Overriding of current TracerProvider is not allowed\n"
          ]
        }
      ]
    },
    {
      "cell_type": "code",
      "source": [
        "# Get your crew to work!\n",
        "result = crew.kickoff()\n",
        "\n",
        "print(\"######################\")\n",
        "print(result)"
      ],
      "metadata": {
        "id": "Aj8Nr69W8Hra"
      },
      "execution_count": null,
      "outputs": []
    }
  ]
}